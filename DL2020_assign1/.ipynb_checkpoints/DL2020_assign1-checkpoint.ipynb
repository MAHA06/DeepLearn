{
 "cells": [
  {
   "cell_type": "markdown",
   "metadata": {},
   "source": [
    "# Deep Learning 2020 - Assignment 1\n",
    "\n",
    "Designed by Zhuo Su (zhuo.su@oulu.fi)\n",
    "\n"
   ]
  },
  {
   "cell_type": "markdown",
   "metadata": {},
   "source": [
    "## Outline (15 points)\n",
    "#### In this assignment, you will learn:\n",
    "* How to generate random data using Pytorch.\n",
    "* How to build your own Pytorch model for simple regression problem on the generated data.\n",
    "* Training the model with gradient descent algorithm in Pytorch.\n",
    "\n",
    "#### Environment\n",
    "Python 3 + Pytorch (>=1.3).<br>\n",
    "Other libraries should be installed correctly such as numpy, matplotlib, *etc*., according to the dependencies of the assignment. <br>\n",
    "If you haven’t installed Pytorch and Jupyter notebook in your computer, an alternative environment to finish the assignment is CSC notebook: [`https://notebooks.csc.fi/`](https://notebooks.csc.fi/) -> log in with HaKa using your university account -> Jupyter Machine Learning\n",
    "\n",
    "#### Database\n",
    "* Randomly synthesized data.\n",
    "\n",
    "#### Hints\n",
    "* It is strongly recommended to read the [scripts](https://moodle.oulu.fi/mod/folder/view.php?id=236451) used in the Tutorial first, where most of the basic syntaxes were introduced to help you finish the assignment.\n",
    "* To find the place where you have to insert your solution, hit Crtl + F and search for **TODO:** . You are not supposed to modify the codes from other parts.\n",
    "* Be careful with the shape of the weights, gradient, .. of your tensor in your implementation. Double check and make sure the shapes fit for computation, especially matrix multiplication.\n",
    "\n",
    "#### About deadline and answer\n",
    "We will give 2 weeks for each assignment and more for the final project. So it may happen where the new assignment is published before the deadline of the previous assignment. \n",
    "\n",
    "**Extension for assignment deadline is not allowed (this will affect the release of answer and the overall progress of the course).**\n",
    "\n",
    "***The answer will be released after the deadline.***"
   ]
  },
  {
   "cell_type": "markdown",
   "metadata": {},
   "source": [
    "## Part 1. Generate training and testing data using Pytorch\n",
    "Suppose we observe a real-valued input variable $x$ and we wish to use this observation to predict the value of a real-valued target variable $y$. For the present purposes, it is instructive to consider an artificial example using synthetically generated data because we then know the precise process that generated the data for comparison against any learned model.\n",
    "\n",
    "We therefore generate our training data which consists of 1000 pairs of $\\{x_i, y_i\\}$ where $\\{x_i\\}$ are generated uniformly in range (0, 10), and the corresponding target values $\\{y_i\\}$ are obtained by first computing the corresponding values of a pre-defined function and then adding random noise with a Gaussian distribution having standard deviation 0.3.\n",
    "\\begin{align*}\n",
    "y_i = 1.3 * sin(2 * x_i) -0.7 * cos(3 * x_i) + 1.0 + \\varepsilon, \\varepsilon\\sim \\mathcal{N}(0,\\,0.3^{2}).\n",
    "\\end{align*}\n",
    "\n",
    "The testing data is created the same way as training data **but without noise**, where the number of pairs is 100, in order to give a quantitative evaluation of the model to be trained. \n",
    "\n",
    "Please create the required training and testing data below and plot them. You could use [`torch.rand()`](https://pytorch.org/docs/stable/generated/torch.rand.html#torch.rand) to create the data and matplotlib.pyplot to show them. "
   ]
  },
  {
   "cell_type": "markdown",
   "metadata": {},
   "source": [
    "Here, I would like to warm you up with a simple example using the function: $y = sin(x) + \\varepsilon, \\varepsilon\\sim \\mathcal{N}(0,\\,0.3^{2})$"
   ]
  },
  {
   "cell_type": "code",
   "execution_count": 1,
   "metadata": {},
   "outputs": [
    {
     "data": {
      "text/plain": [
       "<Figure size 1000x500 with 1 Axes>"
      ]
     },
     "metadata": {},
     "output_type": "display_data"
    }
   ],
   "source": [
    "import torch\n",
    "import matplotlib.pyplot as plt \n",
    "\n",
    "x = torch.rand(50) * 10\n",
    "y = torch.sin(x) + torch.randn(50) * 0.3\n",
    "\n",
    "plt.figure(figsize=(10,5))\n",
    "plt.rcParams.update({'font.size': 10})\n",
    "plt.plot(x, y, marker='o', linestyle='none', markersize=5) \n",
    "plt.show()\n",
    "plt.rcParams.update(plt.rcParamsDefault)"
   ]
  },
  {
   "cell_type": "code",
   "execution_count": 2,
   "metadata": {},
   "outputs": [
    {
     "data": {
      "image/png": "[encoded data removed]",
      "text/plain": [
       "<Figure size 720x360 with 1 Axes>"
      ]
     },
     "metadata": {
      "needs_background": "light"
     },
     "output_type": "display_data"
    }
   ],
   "source": [
    "# TODO: (3 points, details are given below): \n",
    "# generate 1000 training data pairs and 100 testing data pairs according to the above description.\n",
    "\n",
    "# generate training data (1 point)\n",
    "\n",
    "x_train=torch.rand(1000)*10\n",
    "y_train=1.3*torch.sin(2*x_train)-0.7*torch.cos(3*x_train)+1.0+torch.randn(1000)*0.3\n",
    "\n",
    "# generate testing data (1 point)\n",
    "x_test=torch.rand(100)*10\n",
    "y_test=1.3*torch.sin(2*x_test)-0.7*torch.cos(3*x_test)+1.0\n",
    "\n",
    "# draw the data in a single figure (using two different showing styles) (1 point)\n",
    "plt.figure(figsize=(10,5))\n",
    "plt.rcParams.update({'font.size': 10})\n",
    "plt.plot(x_train, y_train, marker='o', linestyle='none', markersize=2) \n",
    "plt.plot(x_test, y_test, marker='+', linestyle='none', markersize=5) \n",
    "plt.show()\n",
    "plt.rcParams.update(plt.rcParamsDefault)"
   ]
  },
  {
   "cell_type": "markdown",
   "metadata": {},
   "source": [
    "The plot figure should be like this. However, you could have your own showing styles."
   ]
  },
  {
   "cell_type": "code",
   "execution_count": null,
   "metadata": {},
   "outputs": [],
   "source": []
  },
  {
   "cell_type": "markdown",
   "metadata": {},
   "source": [
    "## Part 2. Solving the regression problem in Pytorch using Gradient Descent Algorithm\n",
    "\n",
    "### 2.1 Data\n",
    "Congratulations if you generate the data correctly! However, to make sure all of you use the same data, we have generated it in advance. "
   ]
  },
  {
   "cell_type": "code",
   "execution_count": 3,
   "metadata": {},
   "outputs": [],
   "source": [
    "data = torch.load('saved_data.pt')\n",
    "x_train = data['x_train']\n",
    "y_train = data['y_train']\n",
    "x_test = data['x_test']\n",
    "y_test = data['y_test']"
   ]
  },
  {
   "cell_type": "markdown",
   "metadata": {},
   "source": [
    "### 2.2 Model\n",
    "In this part, you will define your own model class. To do that, you have to remember the following rules:\n",
    "1. The model class should be inherited from [`nn.Module`](https://pytorch.org/docs/stable/generated/torch.nn.Module.html#torch.nn.Module);\n",
    "2. Re-write the **\\_\\_init\\_\\_** function and the **forward** function;\n",
    "3. In the **\\_\\_init\\_\\_** function, you should always call the parent's **\\_\\_init\\_\\_** function first.\n",
    "\n",
    "To make it simpler, suppose we have already known the main structure of the function that generated the data:\n",
    "\\begin{align*}\n",
    "y = a * sin(2 * x) + b * cos(3 * x) + c.\n",
    "\\end{align*}\n",
    "\n",
    "Therefore, in the model, we need to set 3 parameters: $a$, $b$ and $c$."
   ]
  },
  {
   "cell_type": "code",
   "execution_count": 4,
   "metadata": {},
   "outputs": [],
   "source": [
    "# TODO: (3.5 points, details are given below)\n",
    "import torch.nn as nn\n",
    "\n",
    "# define a class (0.5) + write the __init__ function (1.5 point) + write the forward function (1.5 points)\n",
    "class Model(nn.Module):\n",
    "    def __init__(self):\n",
    "        super(Model,self).__init__()\n",
    "        self.a=nn.Parameter(torch.rand(1))\n",
    "        self.b=nn.Parameter(torch.rand(1))\n",
    "        self.c=nn.Parameter(torch.rand(1))\n",
    "    def forward(self,data):\n",
    "        f=self.a*torch.sin(2*data)+self.b*torch.cos(3*data)+self.c\n",
    "        return f;\n"
   ]
  },
  {
   "cell_type": "markdown",
   "metadata": {},
   "source": [
    "### 2.3 Training\n",
    "Here, you will train your model based on the training data and evaluate the model on testing data.\n",
    "1. Set proper number of iterations and learning rate.\n",
    "2. Remember to use a proper optimizer (you may have many choices: Adam, SGD, RMSprop, ... please find the detailed information in https://pytorch.org/docs/stable/optim.html and know how to use them).\n",
    "3. In order to train the model, a loss function should be defined:\n",
    "\\begin{align*}\n",
    "loss = \\frac{1}{N}\\sum_{i=1}^{N}|f_i - y_i|,\n",
    "\\end{align*}\n",
    "where, $f_i$ is the output of the model and $N$ is the number of training data pairs.\n",
    "4. The model must be trained only using training data.\n",
    "5. Remember to clear the old gradients of parameters before a new backward propagation.\n",
    "6. In every certain number of iterations, print the values of the parameters, the training loss, and the testing loss.\n",
    "7. Meanwhile, please track the training loss and the testing loss in each iteration. Once the training is done, the curves of losses should be plotted (two curves are drawn in the same figure, where x axis indicates iterations and y axis indicates the losses).\n",
    "8. Lastly, draw all the training data, testing data and the curve of the trained model in the same figure (use different showing styles to distinguish them)."
   ]
  },
  {
   "cell_type": "code",
   "execution_count": 5,
   "metadata": {},
   "outputs": [
    {
     "name": "stdout",
     "output_type": "stream",
     "text": [
      "Epoch 0 | Loss: 1.114914| a = 0.425029 | b=0.610464 | c=0.388274\n",
      "Epoch 400 | Loss: 0.043911| a = 1.311734 | b=-0.624165 | c=0.992597\n",
      "Epoch 800 | Loss: 0.040926| a = 1.308781 | b=-0.629730 | c=0.994926\n",
      "Epoch 1200 | Loss: 0.040920| a = 1.308742 | b=-0.629746 | c=0.994907\n",
      "Epoch 1600 | Loss: 0.040901| a = 1.308645 | b=-0.629796 | c=0.994917\n",
      "Epoch 2000 | Loss: 0.040902| a = 1.308719 | b=-0.629782 | c=0.994922\n",
      "Epoch 2400 | Loss: 0.040900| a = 1.308743 | b=-0.629779 | c=0.994887\n",
      "Epoch 2800 | Loss: 0.040873| a = 1.308716 | b=-0.629830 | c=0.994884\n",
      "Epoch 3200 | Loss: 0.040875| a = 1.308696 | b=-0.629828 | c=0.994860\n",
      "Epoch 3600 | Loss: 0.040867| a = 1.308771 | b=-0.629825 | c=0.994784\n",
      "Epoch 4000 | Loss: 0.040923| a = 1.308798 | b=-0.629735 | c=0.994999\n",
      "Epoch 4400 | Loss: 0.040849| a = 1.308867 | b=-0.629843 | c=0.994949\n",
      "Epoch 4800 | Loss: 0.040834| a = 1.308745 | b=-0.629884 | c=0.994760\n",
      "Epoch 5200 | Loss: 0.040836| a = 1.308612 | b=-0.629915 | c=0.995019\n",
      "Epoch 5600 | Loss: 0.040440| a = 1.309145 | b=-0.630481 | c=0.994995\n",
      "Epoch 6000 | Loss: 0.040861| a = 1.308764 | b=-0.629839 | c=0.994868\n",
      "Epoch 6400 | Loss: 0.040559| a = 1.308875 | b=-0.630309 | c=0.994457\n",
      "Epoch 6800 | Loss: 0.040697| a = 1.308607 | b=-0.630145 | c=0.994930\n",
      "Epoch 7200 | Loss: 0.040738| a = 1.308825 | b=-0.630041 | c=0.995087\n",
      "Epoch 7600 | Loss: 0.040909| a = 1.308946 | b=-0.629694 | c=0.993910\n",
      "Epoch 8000 | Loss: 0.040632| a = 1.308807 | b=-0.630193 | c=0.994214\n",
      "Epoch 8400 | Loss: 0.040930| a = 1.308625 | b=-0.629752 | c=0.994918\n",
      "Epoch 8800 | Loss: 0.040998| a = 1.308969 | b=-0.629572 | c=0.994888\n",
      "Epoch 9200 | Loss: 0.040756| a = 1.307527 | b=-0.630255 | c=0.994292\n",
      "Epoch 9600 | Loss: 0.040690| a = 1.308734 | b=-0.630142 | c=0.995172\n"
     ]
    }
   ],
   "source": [
    "# TODO: (8.5 points, details are given below)\n",
    "import numpy as np\n",
    "import torch.nn.functional as F\n",
    "# Make a instance of the model class (0.5 point)\n",
    "model = Model()\n",
    "\n",
    "# create an optimizer, set a workable learing rate (0.5 point + 0.5 point)\n",
    "optimizer = torch.optim.Adam(model.parameters(), lr=5e-3)\n",
    "\n",
    "training_losses = []\n",
    "testing_losses = []\n",
    "n_itr = 10000\n",
    "\n",
    "for i in range(n_itr):\n",
    " \n",
    "    # Train\n",
    "    model.train() # change model to train mode\n",
    "    \n",
    "    # forward propagation\n",
    "    \n",
    "    # calculate the output of model (0.5 point)\n",
    "    logits=model(x_train)\n",
    "    # calculate loss according to the above equation (0.5 point)\n",
    "\n",
    "    loss=F.l1_loss(logits,y_train)\n",
    "#     print(loss.item())\n",
    "    training_losses.append( loss.item())\n",
    "    # backward propagation \n",
    "    # clear old gradients (0.5)\n",
    "    optimizer.zero_grad();\n",
    "    loss.backward()\n",
    "    # calculate gradients of parameters (1 point)\n",
    "    optimizer.step();\n",
    "\n",
    "    # gradient descent algorithm (1 point)\n",
    "    \n",
    "    # Evaluate, calculate the testing loss (0.5 point)\n",
    "    model.eval() # change model to eval mode\n",
    "    logits=model(x_test)\n",
    "    loss=F.l1_loss(logits,y_test)\n",
    "    testing_losses.append( loss.item())\n",
    "    # print intermediate results in every certain iterations (1 point)\n",
    "    if(i % 400 == 0):\n",
    "        print('Epoch %d | Loss: %f| a = %f | b=%f | c=%f'  %(i,loss.data,model.a.data,model.b.data,model.c.data))\n"
   ]
  },
  {
   "cell_type": "markdown",
   "metadata": {},
   "source": [
    "The intermediate output should be like this:"
   ]
  },
  {
   "cell_type": "code",
   "execution_count": null,
   "metadata": {},
   "outputs": [],
   "source": []
  },
  {
   "cell_type": "code",
   "execution_count": 8,
   "metadata": {
    "scrolled": true
   },
   "outputs": [
    {
     "name": "stdout",
     "output_type": "stream",
     "text": [
      "range(0, 10000)\n"
     ]
    },
    {
     "data": {
      "image/png": "[encoded data removed]",
      "text/plain": [
       "<Figure size 1000x500 with 1 Axes>"
      ]
     },
     "metadata": {},
     "output_type": "display_data"
    }
   ],
   "source": [
    "# plot the traing losses (0.5 point) and testing losses (0.5 point)\n",
    "plt.figure(figsize=(10,5))\n",
    "# print(training_losses)\n",
    "oX=range(0,n_itr)\n",
    "print(oX)\n",
    "plt.rcParams.update({'font.size': 10})\n",
    "plt.plot(oX,testing_losses,'g+')\n",
    "plt.plot(oX,training_losses,'bo')\n",
    "\n",
    "plt.show()"
   ]
  },
  {
   "cell_type": "markdown",
   "metadata": {},
   "source": [
    "The curves should be like this:"
   ]
  },
  {
   "cell_type": "code",
   "execution_count": null,
   "metadata": {},
   "outputs": [],
   "source": []
  },
  {
   "cell_type": "code",
   "execution_count": 7,
   "metadata": {},
   "outputs": [],
   "source": [
    "# plot all the training data, testing data and the curve of function (1 point)\n"
   ]
  },
  {
   "cell_type": "markdown",
   "metadata": {},
   "source": [
    "The figure should be like this:"
   ]
  },
  {
   "cell_type": "code",
   "execution_count": null,
   "metadata": {},
   "outputs": [],
   "source": []
  },
  {
   "cell_type": "code",
   "execution_count": null,
   "metadata": {},
   "outputs": [],
   "source": []
  }
 ],
 "metadata": {
  "kernelspec": {
   "display_name": "Python 3",
   "language": "python",
   "name": "python3"
  },
  "language_info": {
   "codemirror_mode": {
    "name": "ipython",
    "version": 3
   },
   "file_extension": ".py",
   "mimetype": "text/x-python",
   "name": "python",
   "nbconvert_exporter": "python",
   "pygments_lexer": "ipython3",
   "version": "3.7.8"
  }
 },
 "nbformat": 4,
 "nbformat_minor": 4
}
