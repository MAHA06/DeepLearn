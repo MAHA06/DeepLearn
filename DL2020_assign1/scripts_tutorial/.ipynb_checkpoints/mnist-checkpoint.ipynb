{
 "cells": [
  {
   "cell_type": "code",
   "execution_count": 1,
   "metadata": {},
   "outputs": [],
   "source": [
    "import torch"
   ]
  },
  {
   "cell_type": "code",
   "execution_count": 2,
   "metadata": {},
   "outputs": [
    {
     "data": {
      "text/plain": [
       "'1.4.0+cpu'"
      ]
     },
     "execution_count": 2,
     "metadata": {},
     "output_type": "execute_result"
    }
   ],
   "source": [
    "torch.__version__"
   ]
  },
  {
   "cell_type": "code",
   "execution_count": 3,
   "metadata": {},
   "outputs": [],
   "source": [
    "import numpy as np\n",
    "import torch\n",
    "import torch.nn as nn\n",
    "import torch.nn.functional as F\n",
    "\n",
    "\n",
    "from torchvision import transforms\n",
    "from torchvision.datasets import MNIST\n",
    "import torchvision"
   ]
  },
  {
   "cell_type": "code",
   "execution_count": 4,
   "metadata": {},
   "outputs": [
    {
     "name": "stdout",
     "output_type": "stream",
     "text": [
      "Downloading http://yann.lecun.com/exdb/mnist/train-images-idx3-ubyte.gz to ./data/MNIST/raw/train-images-idx3-ubyte.gz\n"
     ]
    },
    {
     "data": {
      "application/vnd.jupyter.widget-view+json": {
       "model_id": "a958ff60939a4bac91e19bdd353cccbc",
       "version_major": 2,
       "version_minor": 0
      },
      "text/plain": [
       "HBox(children=(FloatProgress(value=1.0, bar_style='info', max=1.0), HTML(value='')))"
      ]
     },
     "metadata": {},
     "output_type": "display_data"
    },
    {
     "name": "stdout",
     "output_type": "stream",
     "text": [
      "Extracting ./data/MNIST/raw/train-images-idx3-ubyte.gz to ./data/MNIST/raw\n",
      "Downloading http://yann.lecun.com/exdb/mnist/train-labels-idx1-ubyte.gz to ./data/MNIST/raw/train-labels-idx1-ubyte.gz\n"
     ]
    },
    {
     "data": {
      "application/vnd.jupyter.widget-view+json": {
       "model_id": "a6a1f09b10074e3880cc837c3c7fb840",
       "version_major": 2,
       "version_minor": 0
      },
      "text/plain": [
       "HBox(children=(FloatProgress(value=1.0, bar_style='info', max=1.0), HTML(value='')))"
      ]
     },
     "metadata": {},
     "output_type": "display_data"
    },
    {
     "name": "stdout",
     "output_type": "stream",
     "text": [
      "Extracting ./data/MNIST/raw/train-labels-idx1-ubyte.gz to ./data/MNIST/raw\n",
      "Downloading http://yann.lecun.com/exdb/mnist/t10k-images-idx3-ubyte.gz to ./data/MNIST/raw/t10k-images-idx3-ubyte.gz\n"
     ]
    },
    {
     "data": {
      "application/vnd.jupyter.widget-view+json": {
       "model_id": "fb358592d466491993bdf53d517a8759",
       "version_major": 2,
       "version_minor": 0
      },
      "text/plain": [
       "HBox(children=(FloatProgress(value=1.0, bar_style='info', max=1.0), HTML(value='')))"
      ]
     },
     "metadata": {},
     "output_type": "display_data"
    },
    {
     "name": "stdout",
     "output_type": "stream",
     "text": [
      "Extracting ./data/MNIST/raw/t10k-images-idx3-ubyte.gz to ./data/MNIST/raw\n",
      "Downloading http://yann.lecun.com/exdb/mnist/t10k-labels-idx1-ubyte.gz to ./data/MNIST/raw/t10k-labels-idx1-ubyte.gz\n"
     ]
    },
    {
     "data": {
      "application/vnd.jupyter.widget-view+json": {
       "model_id": "477aea375fa14e7ca5376901fc026eeb",
       "version_major": 2,
       "version_minor": 0
      },
      "text/plain": [
       "HBox(children=(FloatProgress(value=1.0, bar_style='info', max=1.0), HTML(value='')))"
      ]
     },
     "metadata": {},
     "output_type": "display_data"
    },
    {
     "name": "stdout",
     "output_type": "stream",
     "text": [
      "Extracting ./data/MNIST/raw/t10k-labels-idx1-ubyte.gz to ./data/MNIST/raw\n",
      "Processing...\n",
      "Done!\n"
     ]
    }
   ],
   "source": [
    "# data\n",
    "\n",
    "train_set = MNIST('./data', train=True, download=True,\n",
    "        transform=transforms.Compose([transforms.ToTensor()]))\n",
    "test_set = MNIST('./data', train=False, download=True,\n",
    "        transform=transforms.Compose([transforms.ToTensor()]))\n",
    "\n",
    "train_loader = torch.utils.data.DataLoader(train_set, batch_size=100, shuffle=True)\n",
    "test_loader = torch.utils.data.DataLoader(test_set, batch_size=100, shuffle=True)"
   ]
  },
  {
   "cell_type": "code",
   "execution_count": 5,
   "metadata": {},
   "outputs": [],
   "source": [
    "# Model\n",
    "\n",
    "class Model(nn.Module):\n",
    "    def __init__(self):\n",
    "\n",
    "        super(Model,self).__init__()\n",
    "\n",
    "        # first layer\n",
    "        self.conv1 = nn.Conv2d(1, 24, kernel_size=3, stride=2, padding=1, bias=False)\n",
    "        self.bn1 = nn.BatchNorm2d(24)\n",
    "        self.relu1 = nn.ReLU()\n",
    "\n",
    "        # second layer\n",
    "        self.conv2 = nn.Conv2d(24, 32, kernel_size=3, stride=2, padding=1, bias=False)\n",
    "        self.bn2 = nn.BatchNorm2d(32)\n",
    "        self.relu2 = nn.ReLU()\n",
    "\n",
    "        self.fc = nn.Linear(32 * 7 * 7, 10)\n",
    "\n",
    "    def forward(self, x):\n",
    "\n",
    "        # shape of x is : 100 x 1 x 28 x 28\n",
    "        x = self.conv1(x)\n",
    "        x = self.bn1(x)\n",
    "        x = self.relu1(x)\n",
    "\n",
    "        x = self.conv2(x)\n",
    "        x = self.bn2(x)\n",
    "        x = self.relu2(x)\n",
    "\n",
    "        x = x.view(-1, 32 * 7 * 7)\n",
    "        logits = self.fc(x)\n",
    "\n",
    "        return logits"
   ]
  },
  {
   "cell_type": "code",
   "execution_count": 7,
   "metadata": {},
   "outputs": [
    {
     "name": "stdout",
     "output_type": "stream",
     "text": [
      "Epoch 00 | 1/600 | Loss: 2.312530\n",
      "Epoch 00 | 101/600 | Loss: 0.142766\n",
      "Epoch 00 | 201/600 | Loss: 0.144470\n",
      "Epoch 00 | 301/600 | Loss: 0.053363\n",
      "Epoch 00 | 401/600 | Loss: 0.142481\n",
      "Epoch 00 | 501/600 | Loss: 0.105597\n",
      "\\Epoch 00 | Test accuracy 0.979300\n",
      "\n",
      "Epoch 01 | 1/600 | Loss: 0.081508\n",
      "Epoch 01 | 101/600 | Loss: 0.070127\n",
      "Epoch 01 | 201/600 | Loss: 0.093970\n",
      "Epoch 01 | 301/600 | Loss: 0.036232\n",
      "Epoch 01 | 401/600 | Loss: 0.045432\n",
      "Epoch 01 | 501/600 | Loss: 0.052285\n",
      "\\Epoch 01 | Test accuracy 0.982500\n",
      "\n"
     ]
    }
   ],
   "source": [
    "# Training scheme\n",
    "model = Model()\n",
    "\n",
    "optimizer = torch.optim.Adam(model.parameters(), lr=1e-3)\n",
    "\n",
    "for epoch in range(2):\n",
    "\n",
    "    # train\n",
    "    model.train()\n",
    "\n",
    "    for batch_idx, (data, target) in enumerate(train_loader):\n",
    "\n",
    "        logits = model(data)\n",
    "        loss = F.cross_entropy(logits, target)\n",
    "\n",
    "        # clear the old gradients if have\n",
    "        optimizer.zero_grad()\n",
    "\n",
    "        # backward propagation\n",
    "        loss.backward()\n",
    "\n",
    "        # update the parameters by using gradient descent algorithm\n",
    "        optimizer.step()\n",
    "\n",
    "        # print the results\n",
    "        if batch_idx % 100 ==1:\n",
    "            print('Epoch %02d | %d/%d | Loss: %.6f' % (epoch, batch_idx, len(train_loader), loss.item()))\n",
    "\n",
    "\n",
    "    # evaluate the accuracy on the test\n",
    "    model.eval()\n",
    "    total = 0.0\n",
    "    for batch_idx , (data, target) in enumerate(test_loader):\n",
    "\n",
    "        logits = model(data)\n",
    "        prob = F.softmax(logits, dim=1)\n",
    "        pred = prob.data.argmax(dim=1)\n",
    "        total += pred.eq(target.data).sum()\n",
    "\n",
    "    accuracy = total / len(test_set)\n",
    "\n",
    "    print('\\Epoch %02d | Test accuracy %.6f\\n' % (epoch, accuracy.item()))"
   ]
  },
  {
   "cell_type": "code",
   "execution_count": 8,
   "metadata": {},
   "outputs": [
    {
     "name": "stdout",
     "output_type": "stream",
     "text": [
      "tensor([[6.6223e-06, 1.4024e-08, 9.9505e-01, 4.9255e-03, 3.4205e-11, 4.9713e-09,\n",
      "         3.3884e-10, 5.6262e-07, 1.5041e-05, 2.5175e-08]])\n",
      "The number is 2\n"
     ]
    },
    {
     "name": "stderr",
     "output_type": "stream",
     "text": [
      "/opt/conda/lib/python3.7/site-packages/torch/nn/functional.py:2506: UserWarning: Default upsampling behavior when mode=bilinear is changed to align_corners=False since 0.4.0. Please specify align_corners=True if the old behavior is desired. See the documentation of nn.Upsample for details.\n",
      "  \"See the documentation of nn.Upsample for details.\".format(mode))\n"
     ]
    }
   ],
   "source": [
    "from PIL import Image\n",
    "\n",
    "import torchvision.transforms.functional as TF\n",
    "\n",
    "image = Image.open('0072.jpg').convert('L')\n",
    "x = TF.to_tensor(image)\n",
    "x = x.view(1, 1, x.size(1), x.size(2))\n",
    "x = F.interpolate(x, size=[28,28], mode='bilinear')\n",
    "logits = model(x)\n",
    "prob = F.softmax(logits, dim=1)\n",
    "print(prob.data)\n",
    "pred = prob.data.argmax().item()\n",
    "print(\"The number is %d\" % pred)"
   ]
  },
  {
   "cell_type": "code",
   "execution_count": null,
   "metadata": {},
   "outputs": [],
   "source": []
  }
 ],
 "metadata": {
  "kernelspec": {
   "display_name": "Python 3",
   "language": "python",
   "name": "python3"
  },
  "language_info": {
   "codemirror_mode": {
    "name": "ipython",
    "version": 3
   },
   "file_extension": ".py",
   "mimetype": "text/x-python",
   "name": "python",
   "nbconvert_exporter": "python",
   "pygments_lexer": "ipython3",
   "version": "3.7.6"
  }
 },
 "nbformat": 4,
 "nbformat_minor": 4
}
